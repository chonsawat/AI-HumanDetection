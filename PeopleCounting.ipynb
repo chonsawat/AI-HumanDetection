{
 "cells": [
  {
   "cell_type": "markdown",
   "metadata": {
    "id": "FOnq-Q1pzCkB"
   },
   "source": [
    "# Predict\n",
    "Credit: Ajan. Prisan"
   ]
  },
  {
   "cell_type": "code",
   "execution_count": 1,
   "metadata": {
    "colab": {
     "base_uri": "https://localhost:8080/"
    },
    "executionInfo": {
     "elapsed": 2872,
     "status": "ok",
     "timestamp": 1652101669336,
     "user": {
      "displayName": "Praisan Padungweang",
      "userId": "09516624509934947621"
     },
     "user_tz": -420
    },
    "id": "EE_7Z6gH7s2d",
    "outputId": "1ce36c32-18a9-48e2-d96e-8d422e8204c4"
   },
   "outputs": [
    {
     "name": "stdout",
     "output_type": "stream",
     "text": [
      "Collecting gdown\n",
      "  Using cached gdown-4.4.0-py3-none-any.whl\n",
      "Requirement already satisfied: requests[socks] in /opt/conda/lib/python3.9/site-packages (from gdown) (2.27.1)\n",
      "Collecting filelock\n",
      "  Using cached filelock-3.6.0-py3-none-any.whl (10.0 kB)\n",
      "Requirement already satisfied: tqdm in /opt/conda/lib/python3.9/site-packages (from gdown) (4.62.3)\n",
      "Requirement already satisfied: six in /opt/conda/lib/python3.9/site-packages (from gdown) (1.15.0)\n",
      "Requirement already satisfied: beautifulsoup4 in /opt/conda/lib/python3.9/site-packages (from gdown) (4.10.0)\n",
      "Requirement already satisfied: soupsieve>1.2 in /opt/conda/lib/python3.9/site-packages (from beautifulsoup4->gdown) (2.3.1)\n",
      "Requirement already satisfied: urllib3<1.27,>=1.21.1 in /opt/conda/lib/python3.9/site-packages (from requests[socks]->gdown) (1.26.8)\n",
      "Requirement already satisfied: certifi>=2017.4.17 in /opt/conda/lib/python3.9/site-packages (from requests[socks]->gdown) (2021.10.8)\n",
      "Requirement already satisfied: charset-normalizer~=2.0.0 in /opt/conda/lib/python3.9/site-packages (from requests[socks]->gdown) (2.0.10)\n",
      "Requirement already satisfied: idna<4,>=2.5 in /opt/conda/lib/python3.9/site-packages (from requests[socks]->gdown) (3.1)\n",
      "Requirement already satisfied: PySocks!=1.5.7,>=1.5.6 in /opt/conda/lib/python3.9/site-packages (from requests[socks]->gdown) (1.7.1)\n",
      "Installing collected packages: filelock, gdown\n",
      "Successfully installed filelock-3.6.0 gdown-4.4.0\n"
     ]
    }
   ],
   "source": [
    "!pip install --upgrade gdown"
   ]
  },
  {
   "cell_type": "code",
   "execution_count": 5,
   "metadata": {
    "colab": {
     "base_uri": "https://localhost:8080/"
    },
    "executionInfo": {
     "elapsed": 6725,
     "status": "ok",
     "timestamp": 1652101750773,
     "user": {
      "displayName": "Praisan Padungweang",
      "userId": "09516624509934947621"
     },
     "user_tz": -420
    },
    "id": "zljatH5R7yDI",
    "outputId": "8945f09a-5f42-4d23-9645-8be50e8e21f5"
   },
   "outputs": [
    {
     "name": "stdout",
     "output_type": "stream",
     "text": [
      "Downloading...\n",
      "From: https://drive.google.com/uc?id=1xf50QspqlN_WXUovA8RGaT409t4aanpn\n",
      "To: /content/yolov5/CS-SC.09-CCTV1(2019)_ตึก 9_20220501125639_20220501125729_1401346.mp4\n",
      "100% 19.8M/19.8M [00:00<00:00, 39.0MB/s]\n"
     ]
    }
   ],
   "source": [
    "!gdown 1xf50QspqlN_WXUovA8RGaT409t4aanpn\n",
    "!gdown 1M1hh0yoRtnPLUKH1-Y5x_QZuJ5QM_sGG"
   ]
  },
  {
   "cell_type": "code",
   "execution_count": 2,
   "metadata": {
    "colab": {
     "base_uri": "https://localhost:8080/"
    },
    "executionInfo": {
     "elapsed": 4019,
     "status": "ok",
     "timestamp": 1652101499184,
     "user": {
      "displayName": "Praisan Padungweang",
      "userId": "09516624509934947621"
     },
     "user_tz": -420
    },
    "id": "DatREVRsS6CH",
    "outputId": "d8942d1c-224e-409c-ee18-c91817c8568a"
   },
   "outputs": [],
   "source": [
    "import cv2\n",
    "import torch"
   ]
  },
  {
   "cell_type": "code",
   "execution_count": 3,
   "metadata": {
    "colab": {
     "base_uri": "https://localhost:8080/",
     "height": 292,
     "referenced_widgets": [
      "ef56600b998f43989826e55535ad4894",
      "a5d2e944e30e4a8fbf0b1e3f85aabc46",
      "38fe9b2fea0f4bd1a3897d1cd96507f9",
      "146594c10b1343158ad5f57fe3384ad7",
      "30c4def5c1184be1aa881afe6f384945",
      "eb88faa7f7214d21946c62b2099e9a15",
      "292af2c14b91465c9969cf4df517d879",
      "a6bef515abe64e0b97492b0fd879fbd5",
      "ec4c08e938554ffa8fec7149ac469e0c",
      "3d60eed65dca4481908df4db13461f1d",
      "f43f339ce5f64ef3bffa852b6b2592bc"
     ]
    },
    "executionInfo": {
     "elapsed": 15415,
     "status": "ok",
     "timestamp": 1652101528361,
     "user": {
      "displayName": "Praisan Padungweang",
      "userId": "09516624509934947621"
     },
     "user_tz": -420
    },
    "id": "LJ_ttf_W69-Y",
    "outputId": "5372533f-8565-4197-8b3a-8b126c1df3da"
   },
   "outputs": [
    {
     "name": "stderr",
     "output_type": "stream",
     "text": [
      "Using cache found in /home/jovyan/.cache/torch/hub/ultralytics_yolov5_master\n",
      "fatal: not a git repository (or any parent up to mount point /home)\n",
      "Stopping at filesystem boundary (GIT_DISCOVERY_ACROSS_FILESYSTEM not set).\n",
      "YOLOv5 🚀 2022-3-21 torch 1.11.0+cu113 CUDA:0 (NVIDIA A100-SXM4-40GB MIG 2g.10gb, 9856MiB)\n",
      "\n",
      "Fusing layers... \n",
      "Model Summary: 213 layers, 7225885 parameters, 0 gradients\n",
      "Adding AutoShape... \n"
     ]
    }
   ],
   "source": [
    "model = torch.hub.load('ultralytics/yolov5', 'yolov5s') ## python 3.8++"
   ]
  },
  {
   "cell_type": "code",
   "execution_count": 4,
   "metadata": {
    "id": "bqL7wvSB7FCw"
   },
   "outputs": [],
   "source": [
    "model.conf = 0.5  # NMS confidence threshold\n",
    "model.classes = [0,]  # (optional list) filter by class, i.e. = [0, 15, 16] for COCO persons, cats and dogs"
   ]
  },
  {
   "cell_type": "code",
   "execution_count": 5,
   "metadata": {},
   "outputs": [
    {
     "data": {
      "text/plain": [
       "'CS-SC.09-CCTV17(2019)_ตึก 9_20220501125716_20220501125814_2868977.mp4'"
      ]
     },
     "execution_count": 5,
     "metadata": {},
     "output_type": "execute_result"
    }
   ],
   "source": [
    "'CS-SC.09-CCTV1(2019)_ตึก 9_20220501125639_20220501125729_1401346.mp4'\n",
    "'CS-SC.09-CCTV17(2019)_ตึก 9_20220501125716_20220501125814_2868977.mp4'"
   ]
  },
  {
   "cell_type": "code",
   "execution_count": null,
   "metadata": {},
   "outputs": [],
   "source": [
    "# sample_video_path=\"20220501125729_1401346.mp4\"\n",
    "sample_video_path=\"/home/jovyan/AI-HumanDetection/Dataset/CS-SC.09-CCTV17(2019)_ตึก 9_20220501125716_20220501125814_2868977.mp4\"\n",
    "cap = cv2.VideoCapture(sample_video_path)\n",
    "\n",
    "isIm, frame = cap.read()\n",
    "img_width,img_height=(int(frame.shape[1]/2),int(frame.shape[0]/2))\n",
    "out = cv2.VideoWriter('out5fps'+sample_video_path,cv2.VideoWriter_fourcc('M','J','P','G'), 10, (img_width,img_height))\n",
    "count=0\n",
    "while(isIm):\n",
    "    if count%6==0:\n",
    "        frame=cv2.resize(frame,(img_width,img_height))\n",
    "        frame=cv2.cvtColor(frame,cv2.COLOR_BGR2RGB)  \n",
    "        results = model(frame)  # includes NMS\n",
    "        frame=cv2.cvtColor(results.render()[0],cv2.COLOR_RGB2BGR)        \n",
    "        out.write(frame)\n",
    "        cv2.imshow('frame',frame)\n",
    "        if cv2.waitKey(1) & 0xFF == ord('q'):\n",
    "            break\n",
    "    count=count+1\n",
    "    isIm, frame = cap.read()\n",
    "    \n",
    "cap.release()\n",
    "out.release()\n",
    "\n",
    "cv2.destroyAllWindows()"
   ]
  },
  {
   "cell_type": "markdown",
   "metadata": {
    "id": "LQ11X2I9zKXi"
   },
   "source": [
    "#apply to Video"
   ]
  },
  {
   "cell_type": "code",
   "execution_count": null,
   "metadata": {},
   "outputs": [],
   "source": []
  }
 ],
 "metadata": {
  "accelerator": "GPU",
  "colab": {
   "collapsed_sections": [],
   "name": "PeopleCounting.ipynb",
   "provenance": []
  },
  "kernelspec": {
   "display_name": "Python 3 (ipykernel)",
   "language": "python",
   "name": "python3"
  },
  "language_info": {
   "codemirror_mode": {
    "name": "ipython",
    "version": 3
   },
   "file_extension": ".py",
   "mimetype": "text/x-python",
   "name": "python",
   "nbconvert_exporter": "python",
   "pygments_lexer": "ipython3",
   "version": "3.9.7"
  },
  "widgets": {
   "application/vnd.jupyter.widget-state+json": {
    "146594c10b1343158ad5f57fe3384ad7": {
     "model_module": "@jupyter-widgets/controls",
     "model_module_version": "1.5.0",
     "model_name": "HTMLModel",
     "state": {
      "_dom_classes": [],
      "_model_module": "@jupyter-widgets/controls",
      "_model_module_version": "1.5.0",
      "_model_name": "HTMLModel",
      "_view_count": null,
      "_view_module": "@jupyter-widgets/controls",
      "_view_module_version": "1.5.0",
      "_view_name": "HTMLView",
      "description": "",
      "description_tooltip": null,
      "layout": "IPY_MODEL_3d60eed65dca4481908df4db13461f1d",
      "placeholder": "​",
      "style": "IPY_MODEL_f43f339ce5f64ef3bffa852b6b2592bc",
      "value": " 14.0M/14.0M [00:00&lt;00:00, 49.1MB/s]"
     }
    },
    "292af2c14b91465c9969cf4df517d879": {
     "model_module": "@jupyter-widgets/controls",
     "model_module_version": "1.5.0",
     "model_name": "DescriptionStyleModel",
     "state": {
      "_model_module": "@jupyter-widgets/controls",
      "_model_module_version": "1.5.0",
      "_model_name": "DescriptionStyleModel",
      "_view_count": null,
      "_view_module": "@jupyter-widgets/base",
      "_view_module_version": "1.2.0",
      "_view_name": "StyleView",
      "description_width": ""
     }
    },
    "30c4def5c1184be1aa881afe6f384945": {
     "model_module": "@jupyter-widgets/base",
     "model_module_version": "1.2.0",
     "model_name": "LayoutModel",
     "state": {
      "_model_module": "@jupyter-widgets/base",
      "_model_module_version": "1.2.0",
      "_model_name": "LayoutModel",
      "_view_count": null,
      "_view_module": "@jupyter-widgets/base",
      "_view_module_version": "1.2.0",
      "_view_name": "LayoutView",
      "align_content": null,
      "align_items": null,
      "align_self": null,
      "border": null,
      "bottom": null,
      "display": null,
      "flex": null,
      "flex_flow": null,
      "grid_area": null,
      "grid_auto_columns": null,
      "grid_auto_flow": null,
      "grid_auto_rows": null,
      "grid_column": null,
      "grid_gap": null,
      "grid_row": null,
      "grid_template_areas": null,
      "grid_template_columns": null,
      "grid_template_rows": null,
      "height": null,
      "justify_content": null,
      "justify_items": null,
      "left": null,
      "margin": null,
      "max_height": null,
      "max_width": null,
      "min_height": null,
      "min_width": null,
      "object_fit": null,
      "object_position": null,
      "order": null,
      "overflow": null,
      "overflow_x": null,
      "overflow_y": null,
      "padding": null,
      "right": null,
      "top": null,
      "visibility": null,
      "width": null
     }
    },
    "38fe9b2fea0f4bd1a3897d1cd96507f9": {
     "model_module": "@jupyter-widgets/controls",
     "model_module_version": "1.5.0",
     "model_name": "FloatProgressModel",
     "state": {
      "_dom_classes": [],
      "_model_module": "@jupyter-widgets/controls",
      "_model_module_version": "1.5.0",
      "_model_name": "FloatProgressModel",
      "_view_count": null,
      "_view_module": "@jupyter-widgets/controls",
      "_view_module_version": "1.5.0",
      "_view_name": "ProgressView",
      "bar_style": "success",
      "description": "",
      "description_tooltip": null,
      "layout": "IPY_MODEL_a6bef515abe64e0b97492b0fd879fbd5",
      "max": 14698491,
      "min": 0,
      "orientation": "horizontal",
      "style": "IPY_MODEL_ec4c08e938554ffa8fec7149ac469e0c",
      "value": 14698491
     }
    },
    "3d60eed65dca4481908df4db13461f1d": {
     "model_module": "@jupyter-widgets/base",
     "model_module_version": "1.2.0",
     "model_name": "LayoutModel",
     "state": {
      "_model_module": "@jupyter-widgets/base",
      "_model_module_version": "1.2.0",
      "_model_name": "LayoutModel",
      "_view_count": null,
      "_view_module": "@jupyter-widgets/base",
      "_view_module_version": "1.2.0",
      "_view_name": "LayoutView",
      "align_content": null,
      "align_items": null,
      "align_self": null,
      "border": null,
      "bottom": null,
      "display": null,
      "flex": null,
      "flex_flow": null,
      "grid_area": null,
      "grid_auto_columns": null,
      "grid_auto_flow": null,
      "grid_auto_rows": null,
      "grid_column": null,
      "grid_gap": null,
      "grid_row": null,
      "grid_template_areas": null,
      "grid_template_columns": null,
      "grid_template_rows": null,
      "height": null,
      "justify_content": null,
      "justify_items": null,
      "left": null,
      "margin": null,
      "max_height": null,
      "max_width": null,
      "min_height": null,
      "min_width": null,
      "object_fit": null,
      "object_position": null,
      "order": null,
      "overflow": null,
      "overflow_x": null,
      "overflow_y": null,
      "padding": null,
      "right": null,
      "top": null,
      "visibility": null,
      "width": null
     }
    },
    "a5d2e944e30e4a8fbf0b1e3f85aabc46": {
     "model_module": "@jupyter-widgets/controls",
     "model_module_version": "1.5.0",
     "model_name": "HTMLModel",
     "state": {
      "_dom_classes": [],
      "_model_module": "@jupyter-widgets/controls",
      "_model_module_version": "1.5.0",
      "_model_name": "HTMLModel",
      "_view_count": null,
      "_view_module": "@jupyter-widgets/controls",
      "_view_module_version": "1.5.0",
      "_view_name": "HTMLView",
      "description": "",
      "description_tooltip": null,
      "layout": "IPY_MODEL_eb88faa7f7214d21946c62b2099e9a15",
      "placeholder": "​",
      "style": "IPY_MODEL_292af2c14b91465c9969cf4df517d879",
      "value": "100%"
     }
    },
    "a6bef515abe64e0b97492b0fd879fbd5": {
     "model_module": "@jupyter-widgets/base",
     "model_module_version": "1.2.0",
     "model_name": "LayoutModel",
     "state": {
      "_model_module": "@jupyter-widgets/base",
      "_model_module_version": "1.2.0",
      "_model_name": "LayoutModel",
      "_view_count": null,
      "_view_module": "@jupyter-widgets/base",
      "_view_module_version": "1.2.0",
      "_view_name": "LayoutView",
      "align_content": null,
      "align_items": null,
      "align_self": null,
      "border": null,
      "bottom": null,
      "display": null,
      "flex": null,
      "flex_flow": null,
      "grid_area": null,
      "grid_auto_columns": null,
      "grid_auto_flow": null,
      "grid_auto_rows": null,
      "grid_column": null,
      "grid_gap": null,
      "grid_row": null,
      "grid_template_areas": null,
      "grid_template_columns": null,
      "grid_template_rows": null,
      "height": null,
      "justify_content": null,
      "justify_items": null,
      "left": null,
      "margin": null,
      "max_height": null,
      "max_width": null,
      "min_height": null,
      "min_width": null,
      "object_fit": null,
      "object_position": null,
      "order": null,
      "overflow": null,
      "overflow_x": null,
      "overflow_y": null,
      "padding": null,
      "right": null,
      "top": null,
      "visibility": null,
      "width": null
     }
    },
    "eb88faa7f7214d21946c62b2099e9a15": {
     "model_module": "@jupyter-widgets/base",
     "model_module_version": "1.2.0",
     "model_name": "LayoutModel",
     "state": {
      "_model_module": "@jupyter-widgets/base",
      "_model_module_version": "1.2.0",
      "_model_name": "LayoutModel",
      "_view_count": null,
      "_view_module": "@jupyter-widgets/base",
      "_view_module_version": "1.2.0",
      "_view_name": "LayoutView",
      "align_content": null,
      "align_items": null,
      "align_self": null,
      "border": null,
      "bottom": null,
      "display": null,
      "flex": null,
      "flex_flow": null,
      "grid_area": null,
      "grid_auto_columns": null,
      "grid_auto_flow": null,
      "grid_auto_rows": null,
      "grid_column": null,
      "grid_gap": null,
      "grid_row": null,
      "grid_template_areas": null,
      "grid_template_columns": null,
      "grid_template_rows": null,
      "height": null,
      "justify_content": null,
      "justify_items": null,
      "left": null,
      "margin": null,
      "max_height": null,
      "max_width": null,
      "min_height": null,
      "min_width": null,
      "object_fit": null,
      "object_position": null,
      "order": null,
      "overflow": null,
      "overflow_x": null,
      "overflow_y": null,
      "padding": null,
      "right": null,
      "top": null,
      "visibility": null,
      "width": null
     }
    },
    "ec4c08e938554ffa8fec7149ac469e0c": {
     "model_module": "@jupyter-widgets/controls",
     "model_module_version": "1.5.0",
     "model_name": "ProgressStyleModel",
     "state": {
      "_model_module": "@jupyter-widgets/controls",
      "_model_module_version": "1.5.0",
      "_model_name": "ProgressStyleModel",
      "_view_count": null,
      "_view_module": "@jupyter-widgets/base",
      "_view_module_version": "1.2.0",
      "_view_name": "StyleView",
      "bar_color": null,
      "description_width": ""
     }
    },
    "ef56600b998f43989826e55535ad4894": {
     "model_module": "@jupyter-widgets/controls",
     "model_module_version": "1.5.0",
     "model_name": "HBoxModel",
     "state": {
      "_dom_classes": [],
      "_model_module": "@jupyter-widgets/controls",
      "_model_module_version": "1.5.0",
      "_model_name": "HBoxModel",
      "_view_count": null,
      "_view_module": "@jupyter-widgets/controls",
      "_view_module_version": "1.5.0",
      "_view_name": "HBoxView",
      "box_style": "",
      "children": [
       "IPY_MODEL_a5d2e944e30e4a8fbf0b1e3f85aabc46",
       "IPY_MODEL_38fe9b2fea0f4bd1a3897d1cd96507f9",
       "IPY_MODEL_146594c10b1343158ad5f57fe3384ad7"
      ],
      "layout": "IPY_MODEL_30c4def5c1184be1aa881afe6f384945"
     }
    },
    "f43f339ce5f64ef3bffa852b6b2592bc": {
     "model_module": "@jupyter-widgets/controls",
     "model_module_version": "1.5.0",
     "model_name": "DescriptionStyleModel",
     "state": {
      "_model_module": "@jupyter-widgets/controls",
      "_model_module_version": "1.5.0",
      "_model_name": "DescriptionStyleModel",
      "_view_count": null,
      "_view_module": "@jupyter-widgets/base",
      "_view_module_version": "1.2.0",
      "_view_name": "StyleView",
      "description_width": ""
     }
    }
   }
  }
 },
 "nbformat": 4,
 "nbformat_minor": 4
}
